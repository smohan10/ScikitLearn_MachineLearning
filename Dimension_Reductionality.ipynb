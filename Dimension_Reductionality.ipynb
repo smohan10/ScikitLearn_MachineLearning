{
 "cells": [
  {
   "cell_type": "code",
   "execution_count": 61,
   "metadata": {
    "collapsed": false,
    "scrolled": true
   },
   "outputs": [],
   "source": [
    "import numpy as np\n",
    "import pandas as pd\n",
    "from io import StringIO\n",
    "import matplotlib.pyplot as plt\n",
    "from matplotlib.colors import ListedColormap\n",
    "from numpy.random import seed\n",
    "from sklearn import datasets\n",
    "from sklearn.cross_validation import train_test_split\n",
    "from sklearn.preprocessing import StandardScaler\n",
    "from sklearn.preprocessing import MinMaxScaler\n",
    "from sklearn.preprocessing import Imputer\n",
    "from sklearn.preprocessing import LabelEncoder\n",
    "from sklearn.preprocessing import OneHotEncoder\n",
    "from sklearn.linear_model import Perceptron\n",
    "from sklearn.linear_model import LogisticRegression\n",
    "from sklearn.svm import SVC\n",
    "from sklearn.tree import DecisionTreeClassifier\n",
    "from sklearn.tree import export_graphviz\n",
    "from sklearn.neighbors import KNeighborsClassifier\n",
    "from sklearn.decomposition import PCA\n",
    "from sklearn.lda import LDA\n",
    "from sklearn.metrics import accuracy_score\n",
    "from itertools import combinations"
   ]
  },
  {
   "cell_type": "markdown",
   "metadata": {},
   "source": [
    "### Function: Plot decision region\n"
   ]
  },
  {
   "cell_type": "code",
   "execution_count": 62,
   "metadata": {
    "collapsed": true
   },
   "outputs": [],
   "source": [
    "# Defining class for plotting decision regions of a classifier\n",
    "def plot_decision_regions(X,y,classifier, test_idx=None, resolution=0.02):\n",
    "    \n",
    "    #setup marker generator and color map\n",
    "    markers = ('s','x','o','^','v')\n",
    "    colors = ('red','blue','green','gray','cyan')\n",
    "    cmap = ListedColormap(colors[:len(np.unique(y))])\n",
    "    \n",
    "    # plot the decision surface\n",
    "    x1_min,x1_max = X[:,0].min()-1, X[:,0].max()+1\n",
    "    x2_min,x2_max = X[:,1].min()-1, X[:,1].max()+1\n",
    "    xx1, xx2 = np.meshgrid(np.arange(x1_min,x1_max,resolution), \n",
    "                           np.arange(x2_min, x2_max, resolution))\n",
    "    #print(xx1.shape)\n",
    "    #print(xx1.ravel().shape)\n",
    "    \n",
    "    Z = classifier.predict(np.array([xx1.ravel(),xx2.ravel()]).T)\n",
    "    Z = Z.reshape(xx1.shape)\n",
    "    plt.contourf(xx1,xx2,Z,alpha=0.4,cmap=cmap)\n",
    "    plt.xlim(xx1.min(),xx1.max())\n",
    "    plt.ylim(xx2.min(),xx2.max())\n",
    "    \n",
    "    # plot class samples\n",
    "    for idx, c1 in enumerate(np.unique(y)):\n",
    "        plt.scatter(x=X[y==c1,0], y=X[y==c1,1], alpha=0.8, \n",
    "                        c=cmap(idx), marker=markers[idx], label=c1)\n",
    "        \n",
    "        \n",
    "    # Highlight test sample\n",
    "    if test_idx:\n",
    "        X_test, y_test = X[test_idx,:], y[test_idx]\n",
    "        plt.scatter(X_test[:,0], X_test[:,1], c='c',alpha=1.0,\n",
    "                    linewidths=1, marker='o', s=55, label ='test set')"
   ]
  },
  {
   "cell_type": "markdown",
   "metadata": {},
   "source": [
    "### Wine Dataset"
   ]
  },
  {
   "cell_type": "code",
   "execution_count": 63,
   "metadata": {
    "collapsed": false
   },
   "outputs": [
    {
     "name": "stdout",
     "output_type": "stream",
     "text": [
      "The overall dataset is of dimension 178 x 13\n",
      "The overall labels is of dimension 178\n"
     ]
    }
   ],
   "source": [
    "df_wine = pd.read_csv('https://archive.ics.uci.edu/ml/machine-learning-databases/wine/wine.data', header=None)\n",
    "\n",
    "df_wine.columns = ['Class label', 'Alcohol', 'Malic acid', 'Ash', \n",
    "'Alcalinity of ash', 'Magnesium', 'Total phenols', \n",
    "'Flavanoids', 'Nonflavanoid phenols', 'Proanthocyanins', \n",
    "'Color intensity', 'Hue', 'OD280/OD315 of diluted wines', 'Proline']\n",
    "\n",
    "#print('Class labels', np.unique(df_wine['Class label']))\n",
    "#df_wine.head()\n",
    "# Read the input data \n",
    "X,y = df_wine.iloc[:,1:].values,df_wine.iloc[:,0].values\n",
    "print('The overall dataset is of dimension %d x %d'%(X.shape[0],X.shape[1]))\n",
    "print('The overall labels is of dimension %d'%(len(y)))"
   ]
  },
  {
   "cell_type": "code",
   "execution_count": 64,
   "metadata": {
    "collapsed": false
   },
   "outputs": [
    {
     "name": "stdout",
     "output_type": "stream",
     "text": [
      "The training features are of dimension 124 x 13\n",
      "The test features are of dimension 54 x 13\n",
      "The training labels are of dimension 124\n",
      "The test labels are of dimension 54\n"
     ]
    }
   ],
   "source": [
    "# Split into train and test\n",
    "X_train,X_test, y_train,y_test = train_test_split(X,y,test_size=0.3,random_state=0)\n",
    "print('The training features are of dimension %d x %d'%(X_train.shape[0],X_train.shape[1]))\n",
    "print('The test features are of dimension %d x %d'%(X_test.shape[0],X_test.shape[1]))\n",
    "print('The training labels are of dimension %d'%(len(y_train)))\n",
    "print('The test labels are of dimension %d'%(len(y_test)))"
   ]
  },
  {
   "cell_type": "code",
   "execution_count": 65,
   "metadata": {
    "collapsed": true
   },
   "outputs": [],
   "source": [
    "# Standardize the data \n",
    "sc = StandardScaler()\n",
    "X_train_std = sc.fit_transform(X_train)\n",
    "X_test_std = sc.transform(X_test)"
   ]
  },
  {
   "cell_type": "code",
   "execution_count": 66,
   "metadata": {
    "collapsed": false
   },
   "outputs": [
    {
     "name": "stdout",
     "output_type": "stream",
     "text": [
      "Covariance Matrix of training set is of dimension 13 x 13\n",
      "\n",
      "EigenValues:\n",
      " [ 4.8923083   2.46635032  1.42809973  1.01233462  0.84906459  0.60181514\n",
      "  0.52251546  0.08414846  0.33051429  0.29595018  0.16831254  0.21432212\n",
      "  0.2399553 ]\n"
     ]
    }
   ],
   "source": [
    "# Compute manually the Eigen values and vectors\n",
    "cov_mat = np.cov(X_train_std.T)\n",
    "print('Covariance Matrix of training set is of dimension %d x %d'%(cov_mat.shape[0],cov_mat.shape[0]))\n",
    "\n",
    "eigen_vals, eigen_vecs = np.linalg.eig(cov_mat)\n",
    "print('\\nEigenValues:\\n',eigen_vals)"
   ]
  },
  {
   "cell_type": "code",
   "execution_count": 67,
   "metadata": {
    "collapsed": false
   },
   "outputs": [
    {
     "data": {
      "image/png": "[encoded data removed]",
      "text/plain": [
       "<matplotlib.figure.Figure at 0x7fd844f88780>"
      ]
     },
     "metadata": {},
     "output_type": "display_data"
    }
   ],
   "source": [
    "# Look at the variance ratio\n",
    "tot = sum(eigen_vals)\n",
    "var_exp = [ (i/tot)  for i in sorted(eigen_vals,reverse=True)  ]\n",
    "cum_var_exp = np.cumsum(var_exp)\n",
    "\n",
    "# plot\n",
    "plt.bar(range(1,14),var_exp,label='Individual explained variance')\n",
    "plt.step(range(1,14),cum_var_exp,label='Cumulative explained variance')\n",
    "plt.xlabel(\"PC's\")\n",
    "plt.ylabel('Variance Ratio')\n",
    "plt.legend(loc='best')\n",
    "plt.show()\n",
    "           "
   ]
  },
  {
   "cell_type": "code",
   "execution_count": 68,
   "metadata": {
    "collapsed": false
   },
   "outputs": [
    {
     "name": "stdout",
     "output_type": "stream",
     "text": [
      "Transformation matrix W:  [[ 0.14669811  0.50417079]\n",
      " [-0.24224554  0.24216889]\n",
      " [-0.02993442  0.28698484]\n",
      " [-0.25519002 -0.06468718]\n",
      " [ 0.12079772  0.22995385]\n",
      " [ 0.38934455  0.09363991]\n",
      " [ 0.42326486  0.01088622]\n",
      " [-0.30634956  0.01870216]\n",
      " [ 0.30572219  0.03040352]\n",
      " [-0.09869191  0.54527081]\n",
      " [ 0.30032535 -0.27924322]\n",
      " [ 0.36821154 -0.174365  ]\n",
      " [ 0.29259713  0.36315461]]\n"
     ]
    }
   ],
   "source": [
    "# Feature transform\n",
    "eigen_pairs = [ (np.abs(eigen_vals[i]),eigen_vecs[:,i])  for i in range(len(eigen_vals))  ]\n",
    "                 \n",
    "eigen_pairs.sort(reverse=True)\n",
    "#print('Sorted Eigen value and vector pair: ', eigen_pairs)\n",
    "\n",
    "# create transformation matrix w\n",
    "w = np.hstack( ( eigen_pairs[0][1][:,np.newaxis], eigen_pairs[1][1][:,np.newaxis]  ) )\n",
    "print ('Transformation matrix W: ',w)"
   ]
  },
  {
   "cell_type": "code",
   "execution_count": 69,
   "metadata": {
    "collapsed": false
   },
   "outputs": [
    {
     "data": {
      "image/png": "[encoded data removed]",
      "text/plain": [
       "<matplotlib.figure.Figure at 0x7fd8452e1ac8>"
      ]
     },
     "metadata": {},
     "output_type": "display_data"
    }
   ],
   "source": [
    "# Transform X into new features\n",
    "X_train_pca = X_train_std.dot(w)\n",
    "\n",
    "# Visualize\n",
    "colors = ['r','b','g']\n",
    "markers = ['s','x','o']\n",
    "\n",
    "for l,c,m in zip(np.unique(y_train),colors,markers):\n",
    "    plt.scatter(X_train_pca[y_train==2,0],X_train_pca[y_train==2,1],c=c,label=l,marker=m)\n",
    "plt.xlabel('PC1')\n",
    "plt.ylabel('PC2')\n",
    "plt.legend(loc='upper left')\n",
    "plt.show()"
   ]
  },
  {
   "cell_type": "code",
   "execution_count": 70,
   "metadata": {
    "collapsed": false,
    "scrolled": true
   },
   "outputs": [
    {
     "data": {
      "image/png": "[encoded data removed]",
      "text/plain": [
       "<matplotlib.figure.Figure at 0x7fd844cf8cc0>"
      ]
     },
     "metadata": {},
     "output_type": "display_data"
    }
   ],
   "source": [
    "# Using SKLearn's PCA\n",
    "pca=PCA(n_components=2)\n",
    "lr = LogisticRegression()\n",
    "\n",
    "X_train_pca = pca.fit_transform(X_train_std)\n",
    "X_test_pca = pca.transform(X_test)\n",
    "\n",
    "lr.fit(X_train_pca,y_train)\n",
    "plot_decision_regions(X_train_pca,y_train,classifier=lr)\n",
    "plt.xlabel('PC1')\n",
    "plt.ylabel('PC2')\n",
    "plt.legend(loc='upper left')\n",
    "plt.show()\n",
    "\n"
   ]
  },
  {
   "cell_type": "code",
   "execution_count": null,
   "metadata": {
    "collapsed": true
   },
   "outputs": [],
   "source": [
    "\n"
   ]
  },
  {
   "cell_type": "markdown",
   "metadata": {
    "collapsed": true
   },
   "source": [
    "### LDA"
   ]
  },
  {
   "cell_type": "code",
   "execution_count": 71,
   "metadata": {
    "collapsed": false
   },
   "outputs": [
    {
     "name": "stdout",
     "output_type": "stream",
     "text": [
      "Within scatter matrix is of dimension 13 x 13\n",
      "Between scatter matrix is of dimension 13 x 13\n"
     ]
    }
   ],
   "source": [
    "# Compute the mean vector\n",
    "mean_vecs=[]\n",
    "for label in range(1,4):\n",
    "    mean_vecs.append(np.mean(X_train_std[y_train==label],axis=0))\n",
    "    #print('MV %s: %s\\n' %(label, mean_vecs[label-1]))\n",
    "\n",
    "    \n",
    "# within class matrix\n",
    "d = X_train_std.shape[1]\n",
    "\n",
    "S_W = np.zeros((d,d))\n",
    "\n",
    "for label, mv in zip(range(1,4),mean_vecs):\n",
    "    class_scatter=np.cov(X_train_std[y_train==label].T)\n",
    "    S_W += class_scatter\n",
    "    \n",
    "print('Within scatter matrix is of dimension %d x %d'%(S_W.shape[0],S_W.shape[1]))\n",
    "\n",
    "\n",
    "# Between class matrix\n",
    "\n",
    "mean_overall = np.mean(X_train_std,axis=0)\n",
    "S_B = np.zeros((d,d))\n",
    "for i,mean_vec in enumerate(mean_vecs):\n",
    "    #print(i, mean_vec)\n",
    "    n = X_train_std[y_train==i+1,:].shape[0]\n",
    "    mean_vec = mean_vec.reshape(d,1)\n",
    "    mean_overall = mean_overall.reshape(d,1)\n",
    "    #print(mean_vec)\n",
    "    #print('asdasd',mean_overall)\n",
    "S_B += n * (mean_vec - mean_overall).dot( (mean_vec - mean_overall).T)\n",
    "#print(S_B)\n",
    "print('Between scatter matrix is of dimension %d x %d'%(S_B.shape[0],S_B.shape[1]))\n"
   ]
  },
  {
   "cell_type": "code",
   "execution_count": 72,
   "metadata": {
    "collapsed": false
   },
   "outputs": [
    {
     "name": "stdout",
     "output_type": "stream",
     "text": [
      "Eigen values are: \n",
      "269.799757873\n",
      "3.5615949798e-14\n",
      "1.53284647545e-14\n",
      "1.53284647545e-14\n",
      "1.40086038509e-14\n",
      "1.40086038509e-14\n",
      "1.09131408551e-14\n",
      "4.7629073649e-15\n",
      "4.29180642484e-15\n",
      "5.15722545217e-16\n",
      "5.15722545217e-16\n",
      "1.49269022841e-17\n",
      "0.0\n"
     ]
    }
   ],
   "source": [
    "# Extract the eigen value and vector\n",
    "eigen_vals, eigen_vecs = np.linalg.eig(np.linalg.inv(S_W).dot(S_B))\n",
    "#print('Eigen values are: ',np.abs(eigen_vals))\n",
    "\n",
    "eigen_pairs = [(np.abs(eigen_vals[i]), eigen_vecs[:,i]) for i in range(len(eigen_vals))]\n",
    "eigen_pairs = sorted(eigen_pairs, key=lambda k:k[0], reverse=True)\n",
    "print('Eigen values are: ')\n",
    "#print(eigen_pairs)\n",
    "for eigen_val in eigen_pairs:\n",
    "    print(eigen_val[0])"
   ]
  },
  {
   "cell_type": "code",
   "execution_count": 73,
   "metadata": {
    "collapsed": false
   },
   "outputs": [
    {
     "data": {
      "image/png": "[encoded data removed]",
      "text/plain": [
       "<matplotlib.figure.Figure at 0x7fd8451ef278>"
      ]
     },
     "metadata": {},
     "output_type": "display_data"
    }
   ],
   "source": [
    "# Look at the discrimination\n",
    "tot = sum(eigen_vals.real)\n",
    "discr = [ (i/tot)  for i in sorted(eigen_vals.real,reverse=True)  ]\n",
    "cum_discr = np.cumsum(discr)\n",
    "\n",
    "# plot\n",
    "plt.bar(range(1,14),discr,label='Individual discrimination')\n",
    "plt.step(range(1,14),cum_discr,label='Cumulative discrimination')\n",
    "plt.xlabel(\"Linear discriminants\")\n",
    "plt.ylabel('Discriminality Ratio')\n",
    "plt.legend(loc='best')\n",
    "plt.show()"
   ]
  },
  {
   "cell_type": "code",
   "execution_count": 74,
   "metadata": {
    "collapsed": false
   },
   "outputs": [
    {
     "name": "stdout",
     "output_type": "stream",
     "text": [
      "Transformation matrix W:  [[-0.01023192 -0.05652593]\n",
      " [-0.08225301 -0.04275096]\n",
      " [-0.05458637 -0.00596099]\n",
      " [-0.12202041  0.02021277]\n",
      " [ 0.00622232 -0.00655573]\n",
      " [-0.22569484  0.24445841]\n",
      " [ 0.80437516 -0.84646571]\n",
      " [ 0.09424097  0.02665877]\n",
      " [-0.05082705 -0.03733968]\n",
      " [-0.23984071 -0.27565379]\n",
      " [ 0.11217038  0.06903919]\n",
      " [ 0.39135687  0.36699835]\n",
      " [ 0.20623798 -0.02611212]]\n"
     ]
    }
   ],
   "source": [
    "# create transformation matrix w\n",
    "w = np.hstack( ( eigen_pairs[0][1][:,np.newaxis].real, eigen_pairs[1][1][:,np.newaxis].real  ) )\n",
    "print ('Transformation matrix W: ',w)"
   ]
  },
  {
   "cell_type": "code",
   "execution_count": 75,
   "metadata": {
    "collapsed": false
   },
   "outputs": [
    {
     "data": {
      "image/png": "[encoded data removed]",
      "text/plain": [
       "<matplotlib.figure.Figure at 0x7fd844d6fda0>"
      ]
     },
     "metadata": {},
     "output_type": "display_data"
    }
   ],
   "source": [
    "# Projecting new features \n",
    "X_train_lda = X_train_std.dot(w)\n",
    "# Visualize\n",
    "colors = ['r','b','g']\n",
    "markers = ['s','x','o']\n",
    "\n",
    "for l,c,m in zip(np.unique(y_train),colors,markers):\n",
    "    plt.scatter(X_train_lda[y_train==1,0]*(-1),X_train_lda[y_train==1,1]*(-1),c=c,label=l,marker=m)\n",
    "plt.xlabel('LD 1')\n",
    "plt.ylabel('LD 2')\n",
    "plt.legend(loc='upper left')\n",
    "plt.show()"
   ]
  },
  {
   "cell_type": "code",
   "execution_count": 76,
   "metadata": {
    "collapsed": false
   },
   "outputs": [
    {
     "data": {
      "image/png": "[encoded data removed]",
      "text/plain": [
       "<matplotlib.figure.Figure at 0x7fd84542dbe0>"
      ]
     },
     "metadata": {},
     "output_type": "display_data"
    }
   ],
   "source": [
    "# LDA from scikit learn\n",
    "lda = LDA(n_components=2)\n",
    "X_train_lda = lda.fit_transform(X_train_std,y_train)\n",
    "lr = LogisticRegression()\n",
    "lr.fit(X_train_lda,y_train)\n",
    "plot_decision_regions(X_train_lda,y_train,classifier=lr)\n",
    "plt.xlabel('LD 1')\n",
    "plt.ylabel('LD 2')\n",
    "plt.legend(loc='upper left')\n",
    "plt.show()"
   ]
  },
  {
   "cell_type": "code",
   "execution_count": null,
   "metadata": {
    "collapsed": true
   },
   "outputs": [],
   "source": []
  }
 ],
 "metadata": {
  "kernelspec": {
   "display_name": "Python 3",
   "language": "python",
   "name": "python3"
  },
  "language_info": {
   "codemirror_mode": {
    "name": "ipython",
    "version": 3
   },
   "file_extension": ".py",
   "mimetype": "text/x-python",
   "name": "python",
   "nbconvert_exporter": "python",
   "pygments_lexer": "ipython3",
   "version": "3.6.0"
  }
 },
 "nbformat": 4,
 "nbformat_minor": 2
}
