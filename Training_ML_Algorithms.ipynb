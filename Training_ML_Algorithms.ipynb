{
 "cells": [
  {
   "cell_type": "code",
   "execution_count": 52,
   "metadata": {
    "collapsed": false
   },
   "outputs": [],
   "source": [
    "import numpy as np\n",
    "import pandas as pd\n",
    "import matplotlib.pyplot as plt\n",
    "from matplotlib.colors import ListedColormap\n",
    "from numpy.random import seed"
   ]
  },
  {
   "cell_type": "markdown",
   "metadata": {},
   "source": [
    "### Class: Perceptron"
   ]
  },
  {
   "cell_type": "code",
   "execution_count": 5,
   "metadata": {
    "collapsed": true
   },
   "outputs": [],
   "source": [
    "# Define a class called Perceptron \n",
    "\n",
    "class Perceptron(object):\n",
    "    \"\"\" Perceptron classifier\n",
    "    \n",
    "    Parameters:\n",
    "    ----------------\n",
    "    eta    : Learning Rate (betweem 0.0 and 1.0)\n",
    "    n_iter : Passes over training set\n",
    "    \n",
    "    Attributes:\n",
    "    ----------------\n",
    "    w_ : 1d-array\n",
    "         Weights after fitting\n",
    "\n",
    "    errors_ : list\n",
    "              aNumber of misclassifications in each epochs    \n",
    "    \n",
    "    \"\"\"\n",
    "    \n",
    "    def __init__(self, eta=0.01, n_iter=10):\n",
    "        self.eta = eta\n",
    "        self.n_iter = n_iter\n",
    "        \n",
    "    def fit(self, X, y):\n",
    "        \"\"\" Fitting training data\n",
    "        \n",
    "        Parameters:\n",
    "        -----------------\n",
    "        X : {Array-like}, shape [n_samples, n_features] (n x m); Input data\n",
    "        y : {Array-like}, shape [n_samples] (n x 1)  : Input labels (Targets)\n",
    "        \n",
    "        Returns:\n",
    "        -----------------\n",
    "        self : object\n",
    "        \n",
    "        \"\"\"\n",
    "        \n",
    "        self.w_ = np.zeros(1 + X.shape[1])\n",
    "        self.errors_ = []\n",
    "        \n",
    "        for i in range(self.n_iter):\n",
    "            errors = 0\n",
    "            for xi, target in zip(X,y):\n",
    "                update = self.eta * (target - self.predict(xi))\n",
    "                self.w_[1:] += update * xi\n",
    "                self.w_[0]  += update\n",
    "                errors      += int(update != 0.0)\n",
    "            self.errors_.append(errors)\n",
    "        return self\n",
    "    \n",
    "    def net_input(self, X):\n",
    "        \"\"\"Calculate net input \"\"\"\n",
    "        return np.dot(X, self.w_[1:]) + self.w_[0]\n",
    "    \n",
    "    \n",
    "    def predict(self,X):\n",
    "        \"\"\"Return class label after each unit step \"\"\"\n",
    "        return np.where(self.net_input(X) >= 0.0, 1, -1)\n",
    "    \n",
    "    \n",
    "    \n",
    "    "
   ]
  },
  {
   "cell_type": "markdown",
   "metadata": {},
   "source": [
    "### Class Adaptive Linear Neuron"
   ]
  },
  {
   "cell_type": "code",
   "execution_count": 43,
   "metadata": {
    "collapsed": false
   },
   "outputs": [],
   "source": [
    "class AdalineGD(object):\n",
    "    \"\"\"Adaptive Linear Neuron Classifier\n",
    "    \n",
    "    Parameters:\n",
    "    -------------------------------------\n",
    "    eta:Float\n",
    "        Learning Rate (0.0 - 1.0)\n",
    "    n_iter:int\n",
    "        Passes over training dataset\n",
    "        \n",
    "    Attributes:\n",
    "    -------------------------------------\n",
    "    \n",
    "    w_: 1-d array\n",
    "        Weights after filtering\n",
    "    \n",
    "    cost_: list\n",
    "        Number of misclassification in every epoch    \n",
    "    \n",
    "    \"\"\"\n",
    "    \n",
    "    def __init__(self, eta = 0.01, n_iter = 50):\n",
    "        self.eta = eta\n",
    "        self.n_iter = n_iter\n",
    "        \n",
    "    def fit(self, X, y):\n",
    "        \"\"\" Fit the training data\n",
    "        \n",
    "        Parameters:\n",
    "        -------------------------------------------\n",
    "        X: {array-like}, shape = [n_samples, n_features]\n",
    "            Training vectors\n",
    "        y: array-like, shape = [n_samples]\n",
    "            Target values\n",
    "            \n",
    "        Returns:\n",
    "        -------------------------------------------\n",
    "        self: object\n",
    "        \"\"\"\n",
    "        \n",
    "        self.w_ = np.zeros(1+X.shape[1])\n",
    "        self.cost_ = []\n",
    "        \n",
    "        for i in range(self.n_iter):\n",
    "            output = self.net_input(X)\n",
    "            errors = (y - output)\n",
    "            self.w_[1:] += self.eta * X.T.dot(errors)\n",
    "            self.w_[0] += self.eta * errors.sum()\n",
    "            cost = (errors**2).sum()/2.0\n",
    "            self.cost_.append(cost)\n",
    "            \n",
    "        return self\n",
    "            \n",
    "            \n",
    "    def net_input(self,X):\n",
    "        return (np.dot(X,self.w_[1:]) + self.w_[0])\n",
    "        \n",
    "    def activation(self,X):\n",
    "        return self.net_input(X)\n",
    "    \n",
    "    def predict(self,X):\n",
    "        return np.where(self.activation(X) >= 0.0, 1,-1)\n",
    "        "
   ]
  },
  {
   "cell_type": "markdown",
   "metadata": {},
   "source": [
    "### Class Adaline Stochastic Gradient"
   ]
  },
  {
   "cell_type": "code",
   "execution_count": 61,
   "metadata": {
    "collapsed": false
   },
   "outputs": [],
   "source": [
    "class AdalineSGD(object):\n",
    "    \"\"\"Adaptive Linear Neuron Classifier\n",
    "    \n",
    "    Parameters:\n",
    "    -------------------------------------\n",
    "    eta:Float\n",
    "        Learning Rate (0.0 - 1.0)\n",
    "    n_iter:int\n",
    "        Passes over training dataset\n",
    "        \n",
    "    Attributes:\n",
    "    -------------------------------------\n",
    "    \n",
    "    w_: 1-d array\n",
    "        Weights after filtering\n",
    "    \n",
    "    cost_: list\n",
    "        Number of misclassification in every epoch    \n",
    "    \n",
    "    shuffle: Bool (default: True)\n",
    "        Shuffles training data every epoch\n",
    "        \n",
    "    random_state: int (default:None)\n",
    "        Sets random state for shuffling and init of weights\n",
    "    \n",
    "    \"\"\"\n",
    "    \n",
    "    \n",
    "    def __init__(self, eta = 0.01, n_iter = 50, shuffle = True, random_state=None):\n",
    "        self.eta = eta\n",
    "        self.n_iter = n_iter\n",
    "        self.shuffle = shuffle\n",
    "        self.w_initialized = False\n",
    "        if random_state:\n",
    "            seed(random_state)\n",
    "        \n",
    "    def fit(self, X, y):\n",
    "        \"\"\" Fit the training data\n",
    "        \n",
    "        Parameters:\n",
    "        -------------------------------------------\n",
    "        X: {array-like}, shape = [n_samples, n_features]\n",
    "            Training vectors\n",
    "        y: array-like, shape = [n_samples]\n",
    "            Target values\n",
    "            \n",
    "        Returns:\n",
    "        -------------------------------------------\n",
    "        self: object\n",
    "        \"\"\"\n",
    "        \n",
    "        self._initialize_weights(X.shape[1])\n",
    "        self.cost_ = []\n",
    "        \n",
    "        for i in range(self.n_iter):\n",
    "            if(self.shuffle):\n",
    "                X,y = self._shuffle(X,y)\n",
    "            cost = []\n",
    "            for xi, target in zip(X,y):\n",
    "                cost.append(self._update_weights(xi,target))\n",
    "            avg_cost = sum(cost)/len(y)\n",
    "            self.cost_.append(avg_cost)\n",
    "        \n",
    "        return self\n",
    "        \n",
    "        \n",
    "    def partial_fit(self,X,y):\n",
    "        \"\"\"Fit training data without reinitializing weights\"\"\"\n",
    "        \n",
    "        if not self.w_initialized:\n",
    "            self._initialize_weights(X.shape[1])\n",
    "        if y.ravel().shape[0] > 1:\n",
    "            for xi, target in zip(X,y):\n",
    "                self.update_weights(xi,target)\n",
    "        else:\n",
    "            self.update_weights(X,y)\n",
    "            \n",
    "        return self\n",
    "        \n",
    "    def _shuffle(self,X,y):\n",
    "        \"\"\"Shuffle training data \"\"\"\n",
    "        r = np.random.permutation(len(y))\n",
    "        return X[r], y[r]\n",
    "        \n",
    "    def _initialize_weights(self,m):\n",
    "        \"\"\"Initialize weights to 0 \"\"\"\n",
    "        \n",
    "        self.w_ = np.zeros(1 + m)\n",
    "        self.w_initalized = True\n",
    "        \n",
    "    def _update_weights(self,xi,target):\n",
    "        \"\"\"Apply Adaline GD \"\"\"\n",
    "        \n",
    "        output = self.net_input(xi)\n",
    "        errors = (target - output)\n",
    "        self.w_[1:] += self.eta * xi.dot(errors)\n",
    "        self.w_[0] += self.eta * errors\n",
    "        cost = (errors**2)/2.0\n",
    "                    \n",
    "        return cost\n",
    "            \n",
    "            \n",
    "    def net_input(self,X):\n",
    "        return (np.dot(X,self.w_[1:]) + self.w_[0])\n",
    "        \n",
    "    def activation(self,X):\n",
    "        return self.net_input(X)\n",
    "    \n",
    "    def predict(self,X):\n",
    "        return np.where(self.activation(X) >= 0.0, 1,-1)"
   ]
  },
  {
   "cell_type": "code",
   "execution_count": null,
   "metadata": {
    "collapsed": true
   },
   "outputs": [],
   "source": []
  },
  {
   "cell_type": "markdown",
   "metadata": {},
   "source": [
    "### Function: Plot Decision Regions"
   ]
  },
  {
   "cell_type": "code",
   "execution_count": 7,
   "metadata": {
    "collapsed": false
   },
   "outputs": [],
   "source": [
    "# Defining class for plotting decision regions of a classifier\n",
    "def plot_decision_regions(X,y,classifier, resolution=0.02):\n",
    "    \n",
    "    #setup marker generator and color map\n",
    "    markers = ('s','x','o','^','v')\n",
    "    colors = ('red','blue','green','gray','cyan')\n",
    "    cmap = ListedColormap(colors[:len(np.unique(y))])\n",
    "    \n",
    "    # plot the decision surface\n",
    "    x1_min,x1_max = X[:,0].min()-1, X[:,0].max()+1\n",
    "    x2_min,x2_max = X[:,1].min()-1, X[:,1].max()+1\n",
    "    xx1, xx2 = np.meshgrid(np.arange(x1_min,x1_max,resolution), \n",
    "                           np.arange(x2_min, x2_max, resolution))\n",
    "    #print(xx1.shape)\n",
    "    #print(xx1.ravel().shape)\n",
    "    \n",
    "    Z = classifier.predict(np.array([xx1.ravel(),xx2.ravel()]).T)\n",
    "    Z = Z.reshape(xx1.shape)\n",
    "    plt.contourf(xx1,xx2,Z,alpha=0.4,cmap=cmap)\n",
    "    plt.xlim(xx1.min(),xx1.max())\n",
    "    plt.ylim(xx2.min(),xx2.max())\n",
    "    \n",
    "    # plot class samples\n",
    "    for idx, c1 in enumerate(np.unique(y)):\n",
    "        plt.scatter(x=X[y==c1,0], y=X[y==c1,1], alpha=0.8, \n",
    "                        c=cmap(idx), marker=markers[idx], label=c1)\n",
    "\n"
   ]
  },
  {
   "cell_type": "code",
   "execution_count": null,
   "metadata": {
    "collapsed": true
   },
   "outputs": [],
   "source": []
  },
  {
   "cell_type": "markdown",
   "metadata": {},
   "source": [
    "### Iris Dataset"
   ]
  },
  {
   "cell_type": "code",
   "execution_count": 8,
   "metadata": {
    "collapsed": false
   },
   "outputs": [
    {
     "data": {
      "text/html": [
       "<div>\n",
       "<table border=\"1\" class=\"dataframe\">\n",
       "  <thead>\n",
       "    <tr style=\"text-align: right;\">\n",
       "      <th></th>\n",
       "      <th>0</th>\n",
       "      <th>1</th>\n",
       "      <th>2</th>\n",
       "      <th>3</th>\n",
       "      <th>4</th>\n",
       "    </tr>\n",
       "  </thead>\n",
       "  <tbody>\n",
       "    <tr>\n",
       "      <th>145</th>\n",
       "      <td>6.7</td>\n",
       "      <td>3.0</td>\n",
       "      <td>5.2</td>\n",
       "      <td>2.3</td>\n",
       "      <td>Iris-virginica</td>\n",
       "    </tr>\n",
       "    <tr>\n",
       "      <th>146</th>\n",
       "      <td>6.3</td>\n",
       "      <td>2.5</td>\n",
       "      <td>5.0</td>\n",
       "      <td>1.9</td>\n",
       "      <td>Iris-virginica</td>\n",
       "    </tr>\n",
       "    <tr>\n",
       "      <th>147</th>\n",
       "      <td>6.5</td>\n",
       "      <td>3.0</td>\n",
       "      <td>5.2</td>\n",
       "      <td>2.0</td>\n",
       "      <td>Iris-virginica</td>\n",
       "    </tr>\n",
       "    <tr>\n",
       "      <th>148</th>\n",
       "      <td>6.2</td>\n",
       "      <td>3.4</td>\n",
       "      <td>5.4</td>\n",
       "      <td>2.3</td>\n",
       "      <td>Iris-virginica</td>\n",
       "    </tr>\n",
       "    <tr>\n",
       "      <th>149</th>\n",
       "      <td>5.9</td>\n",
       "      <td>3.0</td>\n",
       "      <td>5.1</td>\n",
       "      <td>1.8</td>\n",
       "      <td>Iris-virginica</td>\n",
       "    </tr>\n",
       "  </tbody>\n",
       "</table>\n",
       "</div>"
      ],
      "text/plain": [
       "       0    1    2    3               4\n",
       "145  6.7  3.0  5.2  2.3  Iris-virginica\n",
       "146  6.3  2.5  5.0  1.9  Iris-virginica\n",
       "147  6.5  3.0  5.2  2.0  Iris-virginica\n",
       "148  6.2  3.4  5.4  2.3  Iris-virginica\n",
       "149  5.9  3.0  5.1  1.8  Iris-virginica"
      ]
     },
     "execution_count": 8,
     "metadata": {},
     "output_type": "execute_result"
    }
   ],
   "source": [
    "# Download the IRIS dataset\n",
    "df = pd.read_csv('https://archive.ics.uci.edu/ml/'\n",
    "        'machine-learning-databases/iris/iris.data', header=None)\n",
    "df.tail()"
   ]
  },
  {
   "cell_type": "code",
   "execution_count": 9,
   "metadata": {
    "collapsed": false
   },
   "outputs": [
    {
     "name": "stdout",
     "output_type": "stream",
     "text": [
      "Labels size of training data: 100\n"
     ]
    }
   ],
   "source": [
    "# Enter the train size\n",
    "trainSize = 100\n",
    "\n",
    "# Labels extraction from DF\n",
    "y = df.iloc[0:trainSize,4].values\n",
    "\n",
    "# Convert into labels\n",
    "y = np.where(y == 'Iris-setosa',-1, 1)\n",
    "#print(y)\n",
    "print('Labels size of training data:',len(y))\n"
   ]
  },
  {
   "cell_type": "code",
   "execution_count": 10,
   "metadata": {
    "collapsed": false
   },
   "outputs": [
    {
     "name": "stdout",
     "output_type": "stream",
     "text": [
      "Train size of training data: 100\n",
      "Feature size of training data: 2\n"
     ]
    }
   ],
   "source": [
    "# Prepare training data\n",
    "X = df.iloc[0:trainSize,[0,2]].values\n",
    "print('Train size of training data:',X.shape[0])\n",
    "print('Feature size of training data:',X.shape[1])\n"
   ]
  },
  {
   "cell_type": "code",
   "execution_count": 30,
   "metadata": {
    "collapsed": false
   },
   "outputs": [
    {
     "data": {
      "image/png": "[encoded data removed]",
      "text/plain": [
       "<matplotlib.figure.Figure at 0x7f66477692e8>"
      ]
     },
     "metadata": {},
     "output_type": "display_data"
    }
   ],
   "source": [
    "# Plot the training data\n",
    "plt.scatter(X[0:50,0],X[0:50,1],color='red',label='SET')\n",
    "plt.scatter(X[50:100,0],X[50:100,1],color='blue',label='VER')\n",
    "plt.xlabel('sepal length')\n",
    "plt.ylabel('petal length')\n",
    "plt.title('Training visualization of Iris data')\n",
    "plt.legend(loc='upper left')\n",
    "plt.show()"
   ]
  },
  {
   "cell_type": "code",
   "execution_count": 11,
   "metadata": {
    "collapsed": false
   },
   "outputs": [
    {
     "data": {
      "image/png": "[encoded data removed]",
      "text/plain": [
       "<matplotlib.figure.Figure at 0x7fe12d9480f0>"
      ]
     },
     "metadata": {},
     "output_type": "display_data"
    }
   ],
   "source": [
    "# Train a classifier\n",
    "ppn = Perceptron()\n",
    "ppn.fit(X,y)\n",
    "plt.plot(range(1,len(ppn.errors_)+1), ppn.errors_, marker='o')\n",
    "plt.xlabel('epochs')\n",
    "plt.ylabel('Misclassification')\n",
    "plt.title('Misclassification rate over number of iterations')\n",
    "plt.show()"
   ]
  },
  {
   "cell_type": "code",
   "execution_count": 55,
   "metadata": {
    "collapsed": false
   },
   "outputs": [
    {
     "data": {
      "image/png": "[encoded data removed]",
      "text/plain": [
       "<matplotlib.figure.Figure at 0x7f6645ce9cc0>"
      ]
     },
     "metadata": {},
     "output_type": "display_data"
    }
   ],
   "source": [
    "# Contour map \n",
    "plot_decision_regions(X,y,classifier=ppn)\n",
    "plt.xlabel('sepal length')\n",
    "plt.ylabel('petal length')\n",
    "plt.legend(loc='upper left')\n",
    "plt.show()"
   ]
  },
  {
   "cell_type": "markdown",
   "metadata": {
    "collapsed": true
   },
   "source": [
    "### Testing Adaline GD"
   ]
  },
  {
   "cell_type": "code",
   "execution_count": 44,
   "metadata": {
    "collapsed": false
   },
   "outputs": [
    {
     "data": {
      "image/png": "[encoded data removed]",
      "text/plain": [
       "<matplotlib.figure.Figure at 0x7fe1296375c0>"
      ]
     },
     "metadata": {},
     "output_type": "display_data"
    }
   ],
   "source": [
    "fig,ax = plt.subplots(nrows=1,ncols=2,figsize=(8,4))\n",
    "ada1 = AdalineGD(eta=0.01, n_iter=10).fit(X,y)\n",
    "ax[0].plot(range(1,len(ada1.cost_)+1),np.log10(ada1.cost_), marker='o')\n",
    "ax[0].set_xlabel('Epochs')\n",
    "ax[0].set_ylabel('Log(Sum of errors squared)')\n",
    "ax[0].set_title('Adaline - Learning Rate = 0.01')\n",
    "\n",
    "ada2 = AdalineGD(eta=0.0001, n_iter=10).fit(X,y)\n",
    "ax[1].plot(range(1,len(ada2.cost_)+1),ada2.cost_, marker='o')\n",
    "ax[1].set_xlabel('Epochs')\n",
    "ax[1].set_ylabel('Sum of errors squared')\n",
    "ax[1].set_title('Adaline - Learning Rate = 0.0001')\n",
    "\n",
    "plt.show()"
   ]
  },
  {
   "cell_type": "markdown",
   "metadata": {},
   "source": [
    "### Data Normalization"
   ]
  },
  {
   "cell_type": "code",
   "execution_count": 45,
   "metadata": {
    "collapsed": false
   },
   "outputs": [
    {
     "data": {
      "image/png": "[encoded data removed]",
      "text/plain": [
       "<matplotlib.figure.Figure at 0x7fe1293ea828>"
      ]
     },
     "metadata": {},
     "output_type": "display_data"
    },
    {
     "data": {
      "image/png": "[encoded data removed]",
      "text/plain": [
       "<matplotlib.figure.Figure at 0x7fe1296e9940>"
      ]
     },
     "metadata": {},
     "output_type": "display_data"
    }
   ],
   "source": [
    "X_std = np.copy(X)\n",
    "X_std[:,0] = (X[:,0] - X[:,0].mean())/ X[:,0].std()\n",
    "X_std[:,1] = (X[:,1] - X[:,1].mean())/ X[:,1].std()\n",
    "\n",
    "ada = AdalineGD(n_iter=10, eta=0.01)\n",
    "ada.fit(X_std,y)\n",
    "plot_decision_regions(X_std, y, classifier=ada)\n",
    "plt.title('Adaline - Gradient Descent')\n",
    "plt.xlabel('Sepal Length')\n",
    "plt.ylabel('Petal Length')\n",
    "plt.legend(loc='upper left')\n",
    "plt.show()\n",
    "plt.plot(range(1,len(ada.cost_)+1), ada.cost_,marker='o')\n",
    "plt.xlabel('Epochs')\n",
    "plt.ylabel('Sum-squared error')\n",
    "plt.show()"
   ]
  },
  {
   "cell_type": "markdown",
   "metadata": {},
   "source": [
    "### Testing Stochastic Gradient Descent "
   ]
  },
  {
   "cell_type": "code",
   "execution_count": 62,
   "metadata": {
    "collapsed": false
   },
   "outputs": [
    {
     "data": {
      "image/png": "[encoded data removed]",
      "text/plain": [
       "<matplotlib.figure.Figure at 0x7fe128ed4cc0>"
      ]
     },
     "metadata": {},
     "output_type": "display_data"
    },
    {
     "data": {
      "image/png": "[encoded data removed]",
      "text/plain": [
       "<matplotlib.figure.Figure at 0x7fe129a6bcf8>"
      ]
     },
     "metadata": {},
     "output_type": "display_data"
    }
   ],
   "source": [
    "ada = AdalineSGD(n_iter=10, eta=0.01, shuffle=True,random_state=1)\n",
    "ada.fit(X_std,y)\n",
    "plot_decision_regions(X_std, y, classifier=ada)\n",
    "plt.title('Adaline - Stochastic Gradient Descent')\n",
    "plt.xlabel('Sepal Length')\n",
    "plt.ylabel('Petal Length')\n",
    "plt.legend(loc='upper left')\n",
    "plt.show()\n",
    "plt.plot(range(1,len(ada.cost_)+1), ada.cost_,marker='o')\n",
    "plt.xlabel('Epochs')\n",
    "plt.ylabel('Sum-squared error')\n",
    "plt.show()"
   ]
  },
  {
   "cell_type": "code",
   "execution_count": null,
   "metadata": {
    "collapsed": true
   },
   "outputs": [],
   "source": []
  }
 ],
 "metadata": {
  "kernelspec": {
   "display_name": "Python 3",
   "language": "python",
   "name": "python3"
  },
  "language_info": {
   "codemirror_mode": {
    "name": "ipython",
    "version": 3
   },
   "file_extension": ".py",
   "mimetype": "text/x-python",
   "name": "python",
   "nbconvert_exporter": "python",
   "pygments_lexer": "ipython3",
   "version": "3.6.0"
  }
 },
 "nbformat": 4,
 "nbformat_minor": 2
}
