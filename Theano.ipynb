{
 "cells": [
  {
   "cell_type": "code",
   "execution_count": 1,
   "metadata": {
    "collapsed": true
   },
   "outputs": [],
   "source": [
    "import numpy as np\n",
    "import pandas as pd\n",
    "import os\n",
    "import theano\n",
    "from theano import tensor as T\n",
    "import matplotlib.pyplot as plt"
   ]
  },
  {
   "cell_type": "code",
   "execution_count": 2,
   "metadata": {
    "collapsed": false
   },
   "outputs": [
    {
     "name": "stdout",
     "output_type": "stream",
     "text": [
      "Net_input: 2.50\n"
     ]
    }
   ],
   "source": [
    "x1 = T.scalar()\n",
    "w1 = T.scalar()\n",
    "w0 = T.scalar()\n",
    "z1 = x1 * w1 + w0\n",
    "\n",
    "net_input = theano.function(inputs = [x1, w1, w0],\n",
    "                            outputs = z1)\n",
    "\n",
    "print('Net_input: %.2f' % net_input(2.0,1.0,0.5))"
   ]
  },
  {
   "cell_type": "code",
   "execution_count": 3,
   "metadata": {
    "collapsed": false
   },
   "outputs": [
    {
     "name": "stdout",
     "output_type": "stream",
     "text": [
      "float64\n"
     ]
    }
   ],
   "source": [
    "# configuration of theano\n",
    "#print(theano.config.floatX)\n",
    "#theano.config.floatX = 'float64'\n",
    "print(theano.config.floatX)"
   ]
  },
  {
   "cell_type": "code",
   "execution_count": 4,
   "metadata": {
    "collapsed": false
   },
   "outputs": [
    {
     "data": {
      "text/plain": [
       "'export THEANO_FLAGS=floatX=float32 python test.py'"
      ]
     },
     "execution_count": 4,
     "metadata": {},
     "output_type": "execute_result"
    }
   ],
   "source": [
    "# Globally set the configuration\n",
    "'''export THEANO_FLAGS=floatX=float32 python test.py'''"
   ]
  },
  {
   "cell_type": "code",
   "execution_count": 5,
   "metadata": {
    "collapsed": false
   },
   "outputs": [
    {
     "name": "stdout",
     "output_type": "stream",
     "text": [
      "cpu\n"
     ]
    }
   ],
   "source": [
    "# Configure the device\n",
    "print(theano.config.device)"
   ]
  },
  {
   "cell_type": "code",
   "execution_count": 6,
   "metadata": {
    "collapsed": false
   },
   "outputs": [
    {
     "data": {
      "text/plain": [
       "'echo -e \"\\n[global]\\nfloatX=float32\\ndevice=gpu\\n\" >> ~/.theanorc'"
      ]
     },
     "execution_count": 6,
     "metadata": {},
     "output_type": "execute_result"
    }
   ],
   "source": [
    "# In Bash\n",
    "'''export THEANO_FLAGS=device=cpu,floatX=float32 python test.py'''\n",
    "\n",
    "# Create .theanorc file\n",
    "'''echo -e \"\\n[global]\\nfloatX=float32\\ndevice=gpu\\n\" >> ~/.theanorc'''"
   ]
  },
  {
   "cell_type": "code",
   "execution_count": 7,
   "metadata": {
    "collapsed": false
   },
   "outputs": [
    {
     "name": "stdout",
     "output_type": "stream",
     "text": [
      "Column sum list: [ 2.  4.  6.]\n",
      "Column sum np array: [ 2.  4.  6.]\n"
     ]
    }
   ],
   "source": [
    "# Working with arrays structure\n",
    "x = T.dmatrix(name='x')\n",
    "x_sum = T.sum(x, axis = 0)\n",
    "\n",
    "calc_sum = theano.function(inputs = [x], outputs = x_sum)\n",
    "\n",
    "# Using python list\n",
    "ary = [[1,2,3],[1,2,3]]\n",
    "print('Column sum list:', calc_sum(ary))\n",
    "\n",
    "# Using numpy array\n",
    "ary = np.array([[1,2,3],[1,2,3]], dtype=theano.config.floatX)\n",
    "print('Column sum np array:', calc_sum(ary))"
   ]
  },
  {
   "cell_type": "code",
   "execution_count": 8,
   "metadata": {
    "collapsed": false
   },
   "outputs": [
    {
     "name": "stdout",
     "output_type": "stream",
     "text": [
      "z0:  [[ 0.]]\n",
      "z1:  [[ 6.]]\n",
      "z2:  [[ 12.]]\n",
      "z3:  [[ 18.]]\n",
      "z4:  [[ 24.]]\n"
     ]
    }
   ],
   "source": [
    "# Memory management in theano using shared: allows to spead large objects and grants multiple read/ write\n",
    "\n",
    "data = np.array([[1,2,3]], dtype = theano.config.floatX)\n",
    "\n",
    "x = T.dmatrix('x')\n",
    "w = theano.shared(np.asarray([[0.0,0.0,0.0]], dtype = theano.config.floatX))    \n",
    "z = x.dot(w.T)\n",
    "\n",
    "update = [[w, w + 1.0]]\n",
    "\n",
    "net_input = theano.function(inputs = [x],\n",
    "                            updates = update, \n",
    "                            outputs = z)\n",
    "\n",
    "\n",
    "for i in range(5):\n",
    "    print('z%d: ' % i, net_input(data))\n",
    "    "
   ]
  },
  {
   "cell_type": "code",
   "execution_count": 9,
   "metadata": {
    "collapsed": false
   },
   "outputs": [
    {
     "name": "stdout",
     "output_type": "stream",
     "text": [
      "Using givens\n",
      "z0:  [[ 0.]]\n",
      "z1:  [[ 6.]]\n",
      "z2:  [[ 12.]]\n",
      "z3:  [[ 18.]]\n",
      "z4:  [[ 24.]]\n"
     ]
    }
   ],
   "source": [
    "# Using givens\n",
    "data = np.array([[1,2,3]], dtype = theano.config.floatX)\n",
    "\n",
    "x = T.dmatrix('x')\n",
    "w = theano.shared(np.asarray([[0.0,0.0,0.0]], dtype = theano.config.floatX))   \n",
    "z = x.dot(w.T)\n",
    "update = [[w, w + 1.0]]\n",
    "\n",
    "net_input = theano.function(inputs = [],\n",
    "                            updates = update, \n",
    "                            givens = {x:data},\n",
    "                            outputs = z)\n",
    "\n",
    "print('Using givens')\n",
    "for i in range(5):\n",
    "    print('z%d: ' % i, net_input())"
   ]
  },
  {
   "cell_type": "code",
   "execution_count": 10,
   "metadata": {
    "collapsed": false
   },
   "outputs": [
    {
     "name": "stdout",
     "output_type": "stream",
     "text": [
      "Training data is of dimension 10 x 1\n",
      "Training labels is of dimension 10 \n"
     ]
    }
   ],
   "source": [
    "# Linear regression example \n",
    "\n",
    "# Let us create some training examples \n",
    "\n",
    "X_train = np.array( [ [0.0], [1.0],\n",
    "                      [2.0], [3.0],\n",
    "                      [4.0], [5.0],\n",
    "                      [6.0], [7.0],\n",
    "                      [8.0], [9.0]], dtype = theano.config.floatX)\n",
    "\n",
    "y_train = np.array([1.0, 1.3, \n",
    "                    3.1, 2.0,\n",
    "                    5.0, 6.3,\n",
    "                    7.7, 6.6,\n",
    "                    8.0, 9.0], dtype = theano.config.floatX)\n",
    "\n",
    "\n",
    "print('Training data is of dimension %d x %d' % (X_train.shape[0], X_train.shape[1]))\n",
    "print('Training labels is of dimension %d ' % (len(y_train)))\n"
   ]
  },
  {
   "cell_type": "markdown",
   "metadata": {},
   "source": [
    "### Function: Linear Regression"
   ]
  },
  {
   "cell_type": "code",
   "execution_count": 11,
   "metadata": {
    "collapsed": false
   },
   "outputs": [],
   "source": [
    "def train_lin_regr(X_train, y_train, eta, epochs):\n",
    "    \n",
    "    costs = []\n",
    "    eta0 = T.dscalar('eta0')\n",
    "    y = T.dvector('y')\n",
    "    X = T.dmatrix('X')\n",
    "    \n",
    "    w = theano.shared(np.zeros(shape = (X_train.shape[1] + 1), \n",
    "                               dtype = theano.config.floatX), \n",
    "                      name= 'w')\n",
    "    \n",
    "    # Calculate the cost\n",
    "    net_input = T.dot(X, w[1:]) + w[0]\n",
    "    errors = y - net_input\n",
    "    cost = T.sum(T.pow(errors,2))\n",
    "    \n",
    "    # perform gradient\n",
    "    gradient = T.grad(cost, wrt=w)\n",
    "    update = [(w, w - eta0 * gradient)]\n",
    "    \n",
    "    train = theano.function(inputs = [eta0],\n",
    "                            outputs = cost,\n",
    "                            updates  = update,\n",
    "                            givens = {X:X_train, y:y_train})\n",
    "    \n",
    "    for _ in range(epochs):\n",
    "        costs.append(train(eta))\n",
    "        \n",
    "        \n",
    "    return costs, w\n",
    "\n",
    "\n",
    "def predict_lin_reg(X,w):\n",
    "    Xt = T.dmatrix('X')\n",
    "    net_input = T.dot(Xt,w[1:]) + w[0]\n",
    "    \n",
    "    predict = theano.function(inputs = [Xt],\n",
    "                              outputs = net_input,\n",
    "                              givens = {w:w})\n",
    "    \n",
    "    return predict(X)\n",
    "    "
   ]
  },
  {
   "cell_type": "code",
   "execution_count": 12,
   "metadata": {
    "collapsed": false
   },
   "outputs": [
    {
     "data": {
      "image/png": "[encoded data removed]",
      "text/plain": [
       "<matplotlib.figure.Figure at 0x7fb19958db38>"
      ]
     },
     "metadata": {},
     "output_type": "display_data"
    }
   ],
   "source": [
    "# Perform training on the above examples \n",
    "\n",
    "costs, w = train_lin_regr(X_train, y_train, eta = 0.001, epochs = 10)\n",
    "plt.plot(range(1, len(costs) + 1), costs)\n",
    "plt.xlabel('Epochs')\n",
    "plt.ylabel('Costs')\n",
    "plt.show()"
   ]
  },
  {
   "cell_type": "code",
   "execution_count": 13,
   "metadata": {
    "collapsed": false
   },
   "outputs": [
    {
     "data": {
      "image/png": "[encoded data removed]",
      "text/plain": [
       "<matplotlib.figure.Figure at 0x7fb197d4d828>"
      ]
     },
     "metadata": {},
     "output_type": "display_data"
    }
   ],
   "source": [
    "# Perform prediction on test set and plot\n",
    "\n",
    "plt.scatter(X_train, y_train, marker = 's', s=50)\n",
    "\n",
    "plt.plot(range(X_train.shape[0]), \n",
    "         predict_lin_reg(X_train,w),\n",
    "         color='gray',\n",
    "         marker='o',\n",
    "         linewidth=3)\n",
    "\n",
    "plt.xlabel('x')\n",
    "plt.ylabel('y')\n",
    "plt.show()"
   ]
  },
  {
   "cell_type": "markdown",
   "metadata": {},
   "source": [
    "### More on theano"
   ]
  },
  {
   "cell_type": "code",
   "execution_count": null,
   "metadata": {
    "collapsed": true
   },
   "outputs": [],
   "source": []
  }
 ],
 "metadata": {
  "kernelspec": {
   "display_name": "Python 3",
   "language": "python",
   "name": "python3"
  },
  "language_info": {
   "codemirror_mode": {
    "name": "ipython",
    "version": 3
   },
   "file_extension": ".py",
   "mimetype": "text/x-python",
   "name": "python",
   "nbconvert_exporter": "python",
   "pygments_lexer": "ipython3",
   "version": "3.6.0"
  }
 },
 "nbformat": 4,
 "nbformat_minor": 2
}
